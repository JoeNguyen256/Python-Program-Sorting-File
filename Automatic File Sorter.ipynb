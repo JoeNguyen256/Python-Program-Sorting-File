{
 "cells": [
  {
   "cell_type": "code",
   "execution_count": 41,
   "id": "4e4e5a78-8805-489f-adc2-90b1723fd0fb",
   "metadata": {},
   "outputs": [],
   "source": [
    "import os, shutil"
   ]
  },
  {
   "cell_type": "code",
   "execution_count": 43,
   "id": "df83a911-8296-4ca4-ae20-0f9ebd3eb682",
   "metadata": {},
   "outputs": [],
   "source": [
    "path = r\"C:/Automacitc File Sorter/\""
   ]
  },
  {
   "cell_type": "code",
   "execution_count": 45,
   "id": "b696634d-3c14-477c-99aa-fe127ca0700a",
   "metadata": {},
   "outputs": [],
   "source": [
    "file_name=os.listdir(path)"
   ]
  },
  {
   "cell_type": "code",
   "execution_count": 47,
   "id": "ef7574ec-bc5f-477f-a70c-2ece30b43eb7",
   "metadata": {},
   "outputs": [],
   "source": [
    "folder_names = ['csv files', 'image files', 'text files']\n",
    "\n",
    "for loop in range(0,3):\n",
    "    if not os.path.exists(path + folder_names[loop]):\n",
    "        print(path + folder_names[loop])\n",
    "        os.makedirs(path + folder_names[loop])\n",
    "\n",
    "for file in file_name:\n",
    "    if '.csv' in file and not os.path.exists(path + 'csv files/' + file):\n",
    "        shutil.move(path+file,path + 'csv files/' + file)\n",
    "    elif '.jpg' in file and not os.path.exists(path + 'image files/' + file):\n",
    "        shutil.move(path+file,path + 'image files/' + file)\n",
    "    elif '.txt' in file and not os.path.exists(path + 'text files/' + file):\n",
    "        shutil.move(path+file,path + 'text files/' + file)\n"
   ]
  },
  {
   "cell_type": "code",
   "execution_count": 39,
   "id": "686acfea-ca20-436f-b0f7-0eddd8f88028",
   "metadata": {},
   "outputs": [],
   "source": [
    "\n"
   ]
  },
  {
   "cell_type": "code",
   "execution_count": null,
   "id": "0c25f831-6c96-499d-89c5-95e7bb5b9c08",
   "metadata": {},
   "outputs": [],
   "source": []
  }
 ],
 "metadata": {
  "kernelspec": {
   "display_name": "Python 3 (ipykernel)",
   "language": "python",
   "name": "python3"
  },
  "language_info": {
   "codemirror_mode": {
    "name": "ipython",
    "version": 3
   },
   "file_extension": ".py",
   "mimetype": "text/x-python",
   "name": "python",
   "nbconvert_exporter": "python",
   "pygments_lexer": "ipython3",
   "version": "3.11.7"
  }
 },
 "nbformat": 4,
 "nbformat_minor": 5
}
